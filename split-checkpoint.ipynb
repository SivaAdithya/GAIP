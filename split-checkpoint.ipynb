{
 "cells": [
  {
   "cell_type": "code",
   "execution_count": 1,
   "id": "77b90712",
   "metadata": {},
   "outputs": [],
   "source": [
    "import os\n",
    "\n",
    "import numpy as np\n",
    "\n",
    "import shutil\n"
   ]
  },
  {
   "cell_type": "code",
   "execution_count": 10,
   "id": "dec9185b",
   "metadata": {},
   "outputs": [],
   "source": [
    "#rootdir= 'C/Users/Siva/Downloads/GAIP_22_June-main' #path of the original folder\n",
    "\n",
    "os.makedirs('train_person')\n",
    "\n",
    "os.makedirs('test_person')\n",
    "\n",
    "source =  'people' "
   ]
  },
  {
   "cell_type": "code",
   "execution_count": 11,
   "id": "a51c3725",
   "metadata": {},
   "outputs": [],
   "source": [
    "allFileNames = os.listdir(source)\n",
    "\n",
    "np.random.shuffle(allFileNames)\n",
    "\n",
    "test_ratio = 0.20\n",
    "\n",
    "train_FileNames, test_FileNames = np.split(np.array(allFileNames),\n",
    "                                                      [int(len(allFileNames)* (1 - test_ratio))])\n",
    "\n",
    "train_FileNames = [source+'/'+ name for name in train_FileNames.tolist()]\n",
    "test_FileNames = [source+'/' + name for name in test_FileNames.tolist()]\n",
    "\n",
    "for name in train_FileNames:\n",
    "  shutil.copy(name,'train_person')\n",
    "\n",
    "for name in test_FileNames:\n",
    "  shutil.copy(name, 'test_person')"
   ]
  },
  {
   "cell_type": "code",
   "execution_count": null,
   "id": "fd22e3e2",
   "metadata": {},
   "outputs": [],
   "source": []
  }
 ],
 "metadata": {
  "kernelspec": {
   "display_name": "Python 3 (ipykernel)",
   "language": "python",
   "name": "python3"
  },
  "language_info": {
   "codemirror_mode": {
    "name": "ipython",
    "version": 3
   },
   "file_extension": ".py",
   "mimetype": "text/x-python",
   "name": "python",
   "nbconvert_exporter": "python",
   "pygments_lexer": "ipython3",
   "version": "3.9.12"
  }
 },
 "nbformat": 4,
 "nbformat_minor": 5
}
